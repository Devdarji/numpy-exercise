{
 "cells": [
  {
   "cell_type": "markdown",
   "metadata": {},
   "source": [
    "##### Write a NumPy program to get the numpy version and show numpy build configuration."
   ]
  },
  {
   "cell_type": "code",
   "execution_count": 11,
   "metadata": {},
   "outputs": [
    {
     "name": "stdout",
     "output_type": "stream",
     "text": [
      "1.22.3\n"
     ]
    }
   ],
   "source": [
    "import numpy as np\n",
    "print(np.__version__)\n",
    "# print(np.show_config())"
   ]
  },
  {
   "cell_type": "markdown",
   "metadata": {},
   "source": [
    "##### Write a NumPy program to  get help on the add function. "
   ]
  },
  {
   "cell_type": "code",
   "execution_count": 12,
   "metadata": {},
   "outputs": [
    {
     "name": "stdout",
     "output_type": "stream",
     "text": [
      "add(x1, x2, /, out=None, *, where=True, casting='same_kind', order='K', dtype=None, subok=True[, signature, extobj])\n",
      "\n",
      "Add arguments element-wise.\n",
      "\n",
      "Parameters\n",
      "----------\n",
      "x1, x2 : array_like\n",
      "    The arrays to be added.\n",
      "    If ``x1.shape != x2.shape``, they must be broadcastable to a common\n",
      "    shape (which becomes the shape of the output).\n",
      "out : ndarray, None, or tuple of ndarray and None, optional\n",
      "    A location into which the result is stored. If provided, it must have\n",
      "    a shape that the inputs broadcast to. If not provided or None,\n",
      "    a freshly-allocated array is returned. A tuple (possible only as a\n",
      "    keyword argument) must have length equal to the number of outputs.\n",
      "where : array_like, optional\n",
      "    This condition is broadcast over the input. At locations where the\n",
      "    condition is True, the `out` array will be set to the ufunc result.\n",
      "    Elsewhere, the `out` array will retain its original value.\n",
      "    Note that if an uninitialized `out` array is created via the default\n",
      "    ``out=None``, locations within it where the condition is False will\n",
      "    remain uninitialized.\n",
      "**kwargs\n",
      "    For other keyword-only arguments, see the\n",
      "    :ref:`ufunc docs <ufuncs.kwargs>`.\n",
      "\n",
      "Returns\n",
      "-------\n",
      "add : ndarray or scalar\n",
      "    The sum of `x1` and `x2`, element-wise.\n",
      "    This is a scalar if both `x1` and `x2` are scalars.\n",
      "\n",
      "Notes\n",
      "-----\n",
      "Equivalent to `x1` + `x2` in terms of array broadcasting.\n",
      "\n",
      "Examples\n",
      "--------\n",
      ">>> np.add(1.0, 4.0)\n",
      "5.0\n",
      ">>> x1 = np.arange(9.0).reshape((3, 3))\n",
      ">>> x2 = np.arange(3.0)\n",
      ">>> np.add(x1, x2)\n",
      "array([[  0.,   2.,   4.],\n",
      "       [  3.,   5.,   7.],\n",
      "       [  6.,   8.,  10.]])\n",
      "\n",
      "The ``+`` operator can be used as a shorthand for ``np.add`` on ndarrays.\n",
      "\n",
      ">>> x1 = np.arange(9.0).reshape((3, 3))\n",
      ">>> x2 = np.arange(3.0)\n",
      ">>> x1 + x2\n",
      "array([[ 0.,  2.,  4.],\n",
      "       [ 3.,  5.,  7.],\n",
      "       [ 6.,  8., 10.]])\n",
      "None\n"
     ]
    }
   ],
   "source": [
    "print(np.info(np.add))"
   ]
  },
  {
   "cell_type": "markdown",
   "metadata": {},
   "source": [
    "##### Write a NumPy program to test whether none of the elements of a given array is zero."
   ]
  },
  {
   "cell_type": "code",
   "execution_count": 13,
   "metadata": {},
   "outputs": [
    {
     "name": "stdout",
     "output_type": "stream",
     "text": [
      "[1 2 3 4]\n",
      "True\n",
      "[0 1 2 3 4]\n",
      "False\n"
     ]
    }
   ],
   "source": [
    "x = np.array([1, 2, 3, 4])\n",
    "print(x)\n",
    "print(np.all(x))\n",
    "x = np.array([0,1, 2, 3, 4])\n",
    "print(x)\n",
    "print(np.all(x))"
   ]
  },
  {
   "cell_type": "markdown",
   "metadata": {},
   "source": [
    "#####  Write a NumPy program to test whether any of the elements of a given array is non-zero."
   ]
  },
  {
   "cell_type": "code",
   "execution_count": 14,
   "metadata": {},
   "outputs": [
    {
     "name": "stdout",
     "output_type": "stream",
     "text": [
      "[1 0 0 0]\n",
      "True\n",
      "[0 0 0 0]\n",
      "False\n"
     ]
    }
   ],
   "source": [
    "x = np.array([1, 0, 0, 0])\n",
    "print(x)\n",
    "print(np.any(x))\n",
    "x = np.array([0, 0, 0, 0])\n",
    "print(x)\n",
    "print(np.any(x))\n"
   ]
  },
  {
   "cell_type": "markdown",
   "metadata": {},
   "source": [
    "##### Write a NumPy program to test a given array element-wise for finiteness (not infinity or not a Number)."
   ]
  },
  {
   "cell_type": "code",
   "execution_count": 15,
   "metadata": {},
   "outputs": [
    {
     "name": "stdout",
     "output_type": "stream",
     "text": [
      "[ 1.  0. nan inf]\n",
      "[ True  True False False]\n"
     ]
    }
   ],
   "source": [
    "a = np.array([1, 0, np.nan, np.inf])\n",
    "print(a)\n",
    "print(np.isfinite(a))\n"
   ]
  },
  {
   "cell_type": "markdown",
   "metadata": {},
   "source": [
    "##### Write a NumPy program to test element-wise for positive or negative infinity."
   ]
  },
  {
   "cell_type": "code",
   "execution_count": 16,
   "metadata": {},
   "outputs": [
    {
     "name": "stdout",
     "output_type": "stream",
     "text": [
      "[ 1.  0. nan inf]\n",
      "[False False False  True]\n"
     ]
    }
   ],
   "source": [
    "a = np.array([1, 0 , np.nan, np.inf])\n",
    "print(a)\n",
    "print(np.isinf(a))"
   ]
  },
  {
   "cell_type": "markdown",
   "metadata": {},
   "source": [
    "##### Write a NumPy program to test element-wise for NaN of a given array."
   ]
  },
  {
   "cell_type": "code",
   "execution_count": 17,
   "metadata": {},
   "outputs": [
    {
     "name": "stdout",
     "output_type": "stream",
     "text": [
      "[ 1.  0. nan inf]\n",
      "[False False  True False]\n"
     ]
    }
   ],
   "source": [
    "a = np.array([1, 0, np.nan, np.inf])\n",
    "print(a)\n",
    "print(np.isnan(a))\n"
   ]
  },
  {
   "cell_type": "markdown",
   "metadata": {},
   "source": [
    "Write a NumPy program to test element-wise for complex number, real number of a given array. Also test whether a given number is a scalar type or not."
   ]
  },
  {
   "cell_type": "code",
   "execution_count": 18,
   "metadata": {},
   "outputs": [
    {
     "name": "stdout",
     "output_type": "stream",
     "text": [
      "[1. +1.j 1. +0.j 2.5+0.j 7. +0.j 9. +0.j 0. +2.j]\n",
      "[ True False False False False  True]\n",
      "[False  True  True  True  True False]\n",
      "True\n",
      "False\n"
     ]
    }
   ],
   "source": [
    "a = np.array([1+1j, 1+0j, 2.5, 7, 9, 2j])\n",
    "print(a)\n",
    "print(np.iscomplex(a))\n",
    "print(np.isreal(a))\n",
    "print(np.isscalar(4.6))\n",
    "print(np.isscalar([4.6]))\n"
   ]
  },
  {
   "cell_type": "markdown",
   "metadata": {},
   "source": [
    "Write a NumPy program to test whether two arrays are element-wise equal within a tolerance.\n",
    "\n",
    "Note: The tolerance values are positive, typically very small numbers.  The\n",
    "relative difference (`rtol` * abs(`b`)) and the absolute difference\n",
    "`atol` are added together to compare against the absolute difference\n",
    "between `a` and `b`."
   ]
  },
  {
   "cell_type": "code",
   "execution_count": 19,
   "metadata": {},
   "outputs": [
    {
     "name": "stdout",
     "output_type": "stream",
     "text": [
      "False\n",
      "True\n",
      "False\n",
      "False\n",
      "True\n"
     ]
    }
   ],
   "source": [
    "# print(np.info(np.allclose))\n",
    "print(np.allclose([1e10, 1e-7], [1.00001e10, 1e-8]))\n",
    "print(np.allclose([1e10, 1e-8], [1.00001e10, 1e-9]))\n",
    "print(np.allclose([1e10, 1e-8], [1.0001e10, 1e-9]))\n",
    "print(np.allclose([1.0, np.nan], [1.0, np.nan]))\n",
    "print(np.allclose([1.0, np.nan], [1.0, np.nan], equal_nan=True))\n"
   ]
  },
  {
   "cell_type": "markdown",
   "metadata": {},
   "source": [
    "Write a NumPy program to create an element-wise comparison (greater, greater_equal, less and less_equal) of two given arrays."
   ]
  },
  {
   "cell_type": "code",
   "execution_count": 21,
   "metadata": {},
   "outputs": [
    {
     "name": "stdout",
     "output_type": "stream",
     "text": [
      "[3 6]\n",
      "[7 3]\n",
      "Comparison -  Greater\n",
      "[False  True]\n",
      "Comparison -  Greater Equal\n",
      "[False  True]\n",
      "Comparison -  Less\n",
      "[ True False]\n",
      "Comparison -  Less Equal\n",
      "[ True False]\n"
     ]
    }
   ],
   "source": [
    "x = np.array([3,6])\n",
    "y = np.array([7,3])\n",
    "\n",
    "print(x)\n",
    "print(y)\n",
    "\n",
    "print(\"Comparison -  Greater\")\n",
    "print(np.greater(x,y))\n",
    "\n",
    "\n",
    "print(\"Comparison -  Greater Equal\")\n",
    "print(np.greater_equal(x,y))\n",
    "\n",
    "print(\"Comparison -  Less\")\n",
    "print(np.less(x, y))\n",
    "\n",
    "print(\"Comparison -  Less Equal\")\n",
    "print(np.less_equal(x, y))"
   ]
  },
  {
   "cell_type": "markdown",
   "metadata": {},
   "source": [
    "Write a NumPy program to create an element-wise comparison (equal, equal within a tolerance) of two given arrays."
   ]
  },
  {
   "cell_type": "code",
   "execution_count": 25,
   "metadata": {},
   "outputs": [
    {
     "name": "stdout",
     "output_type": "stream",
     "text": [
      "[  72   79   85   90  150 -135  120  -10   60  100]\n",
      "[  72.         79.         85.         90.        150.       -135.\n",
      "  120.        -10.         60.        100.001001]\n",
      "Comparison - equal:\n",
      "[ True  True  True  True  True  True  True  True  True False]\n",
      "Comparison - equal within a tolerance:\n",
      "False\n"
     ]
    }
   ],
   "source": [
    "x = np.array([72, 79, 85, 90, 150, -135, 120, -10, 60, 100])\n",
    "y = np.array([72, 79, 85, 90, 150, -135, 120, -10, 60, 100.000001])\n",
    "\n",
    "print(x)\n",
    "print(y)\n",
    "\n",
    "\n",
    "print(\"Comparison - equal:\")\n",
    "print(np.equal(x, y))\n",
    "print(\"Comparison - equal within a tolerance:\")\n",
    "print(np.allclose(x, y))\n"
   ]
  },
  {
   "cell_type": "markdown",
   "metadata": {},
   "source": [
    "Write a NumPy program to create an array with the values 1, 7, 13, 105 and determine the size of the memory occupied by the array."
   ]
  },
  {
   "cell_type": "code",
   "execution_count": 29,
   "metadata": {},
   "outputs": [
    {
     "name": "stdout",
     "output_type": "stream",
     "text": [
      "[  1   7  13 105]\n",
      "Size of Array 32\n"
     ]
    }
   ],
   "source": [
    "x = np.array([1, 7, 13, 105])\n",
    "print(x)\n",
    "\n",
    "print(\"Size of Array\", x.size * x.itemsize)\n"
   ]
  },
  {
   "cell_type": "markdown",
   "metadata": {},
   "source": [
    "Write a NumPy program to create an array of 10 zeros,10 ones, 10 fives"
   ]
  },
  {
   "cell_type": "code",
   "execution_count": 30,
   "metadata": {},
   "outputs": [
    {
     "name": "stdout",
     "output_type": "stream",
     "text": [
      "An array of 10 zeros:\n",
      "[0. 0. 0. 0. 0. 0. 0. 0. 0. 0.]\n",
      "An array of 10 ones:\n",
      "[1. 1. 1. 1. 1. 1. 1. 1. 1. 1.]\n",
      "An array of 10 fives:\n",
      "[5. 5. 5. 5. 5. 5. 5. 5. 5. 5.]\n"
     ]
    }
   ],
   "source": [
    "array = np.zeros(10)\n",
    "print(\"An array of 10 zeros:\")\n",
    "print(array)\n",
    "array = np.ones(10)\n",
    "print(\"An array of 10 ones:\")\n",
    "print(array)\n",
    "array = np.ones(10)*5\n",
    "print(\"An array of 10 fives:\")\n",
    "print(array)\n"
   ]
  },
  {
   "cell_type": "markdown",
   "metadata": {},
   "source": [
    "Write a NumPy program to create an array of the integers from 30 to70."
   ]
  },
  {
   "cell_type": "code",
   "execution_count": 32,
   "metadata": {},
   "outputs": [
    {
     "name": "stdout",
     "output_type": "stream",
     "text": [
      "Array of the integers from 30 to 70\n",
      "[30 31 32 33 34 35 36 37 38 39 40 41 42 43 44 45 46 47 48 49 50 51 52 53\n",
      " 54 55 56 57 58 59 60 61 62 63 64 65 66 67 68 69 70]\n"
     ]
    }
   ],
   "source": [
    "array = np.arange(30, 71)\n",
    "print(\"Array of the integers from 30 to 70\")\n",
    "print(array)\n"
   ]
  },
  {
   "cell_type": "markdown",
   "metadata": {},
   "source": [
    "Write a NumPy program to create an array of all the even integers from 30 to 70."
   ]
  },
  {
   "cell_type": "code",
   "execution_count": 33,
   "metadata": {},
   "outputs": [
    {
     "name": "stdout",
     "output_type": "stream",
     "text": [
      "Array of all the even integers from 30 to 70\n",
      "[30 32 34 36 38 40 42 44 46 48 50 52 54 56 58 60 62 64 66 68 70]\n"
     ]
    }
   ],
   "source": [
    "array = np.arange(30, 71, 2)\n",
    "print(\"Array of all the even integers from 30 to 70\")\n",
    "print(array)\n"
   ]
  },
  {
   "cell_type": "markdown",
   "metadata": {},
   "source": [
    "Write a NumPy program to create a 3x3 identity matrix."
   ]
  },
  {
   "cell_type": "code",
   "execution_count": 34,
   "metadata": {},
   "outputs": [
    {
     "name": "stdout",
     "output_type": "stream",
     "text": [
      "3x3 matrix:\n",
      "[[1. 0. 0.]\n",
      " [0. 1. 0.]\n",
      " [0. 0. 1.]]\n"
     ]
    }
   ],
   "source": [
    "array_2D = np.identity(3)\n",
    "print('3x3 matrix:')\n",
    "print(array_2D)\n"
   ]
  },
  {
   "cell_type": "markdown",
   "metadata": {},
   "source": [
    "Write a NumPy program to generate a random number between 0 and 1"
   ]
  },
  {
   "cell_type": "code",
   "execution_count": 52,
   "metadata": {},
   "outputs": [
    {
     "name": "stdout",
     "output_type": "stream",
     "text": [
      "Random number between 0 and 1:\n",
      "[0.91249236 0.24506455]\n"
     ]
    }
   ],
   "source": [
    "rand_num = np.random.normal(0, 1, 2)\n",
    "print(\"Random number between 0 and 1:\")\n",
    "print(rand_num)"
   ]
  },
  {
   "cell_type": "markdown",
   "metadata": {},
   "source": [
    "Write a NumPy program to generate an array of 15 random numbers from a standard normal distribution."
   ]
  },
  {
   "cell_type": "code",
   "execution_count": 53,
   "metadata": {},
   "outputs": [
    {
     "name": "stdout",
     "output_type": "stream",
     "text": [
      "15 random numbers from a standard normal distribution:\n",
      "[ 0.02783662  0.38585182 -0.87769297  0.17995414 -0.75858178 -0.95012998\n",
      " -1.57491011 -0.94773752 -1.45284321 -1.38704445  2.36430932  2.7389492\n",
      " -1.82210174 -1.19020499 -2.43930182]\n"
     ]
    }
   ],
   "source": [
    "rand_num = np.random.normal(0, 1, 15)\n",
    "print(\"15 random numbers from a standard normal distribution:\")\n",
    "print(rand_num)\n"
   ]
  },
  {
   "cell_type": "markdown",
   "metadata": {},
   "source": [
    "Write a NumPy program to create a vector with values ranging from 15 to 55 and print all values except the first and last."
   ]
  },
  {
   "cell_type": "code",
   "execution_count": 54,
   "metadata": {},
   "outputs": [
    {
     "name": "stdout",
     "output_type": "stream",
     "text": [
      "Original vector:\n",
      "[15 16 17 18 19 20 21 22 23 24 25 26 27 28 29 30 31 32 33 34 35 36 37 38\n",
      " 39 40 41 42 43 44 45 46 47 48 49 50 51 52 53 54]\n",
      "All values except the first and last of the said vector:\n",
      "[16 17 18 19 20 21 22 23 24 25 26 27 28 29 30 31 32 33 34 35 36 37 38 39\n",
      " 40 41 42 43 44 45 46 47 48 49 50 51 52 53]\n"
     ]
    }
   ],
   "source": [
    "v = np.arange(15, 55)\n",
    "print(\"Original vector:\")\n",
    "print(v)\n",
    "print(\"All values except the first and last of the said vector:\")\n",
    "print(v[1:-1])\n"
   ]
  },
  {
   "cell_type": "markdown",
   "metadata": {},
   "source": [
    "Write a NumPy program to create a 3X4 array using and iterate over it. "
   ]
  },
  {
   "cell_type": "code",
   "execution_count": 57,
   "metadata": {},
   "outputs": [
    {
     "name": "stdout",
     "output_type": "stream",
     "text": [
      "Original array:\n",
      "[[10 11 12 13]\n",
      " [14 15 16 17]\n",
      " [18 19 20 21]]\n",
      "Each element of the array is:\n",
      "10 11 12 13 14 15 16 17 18 19 20 21 "
     ]
    }
   ],
   "source": [
    "a = np.arange(10,22).reshape((3, 4))\n",
    "print(\"Original array:\")\n",
    "print(a)\n",
    "print(\"Each element of the array is:\")\n",
    "for x in np.nditer(a):\n",
    "  print(x,end=\" \")"
   ]
  },
  {
   "cell_type": "markdown",
   "metadata": {},
   "source": [
    "Write a NumPy program to create a vector of length 10 with values evenly distributed between 5 and 50."
   ]
  },
  {
   "cell_type": "code",
   "execution_count": 58,
   "metadata": {},
   "outputs": [
    {
     "name": "stdout",
     "output_type": "stream",
     "text": [
      "Length 10 with values evenly distributed between 5 and 50:\n",
      "[10.   19.75 29.5  39.25 49.  ]\n"
     ]
    }
   ],
   "source": [
    "v = np.linspace(10, 49, 5)\n",
    "print(\"Length 10 with values evenly distributed between 5 and 50:\")\n",
    "print(v)\n"
   ]
  },
  {
   "cell_type": "markdown",
   "metadata": {},
   "source": [
    "Write a NumPy program to create a vector with values from 0 to 20 and change the sign of the numbers in the range from 9 to 15."
   ]
  },
  {
   "cell_type": "code",
   "execution_count": 59,
   "metadata": {},
   "outputs": [
    {
     "name": "stdout",
     "output_type": "stream",
     "text": [
      "Original vector:\n",
      "[ 0  1  2  3  4  5  6  7  8  9 10 11 12 13 14 15 16 17 18 19 20]\n",
      "After changing the sign of the numbers in the range from 9 to 15:\n",
      "[  0   1   2   3   4   5   6   7   8  -9 -10 -11 -12 -13 -14 -15  16  17\n",
      "  18  19  20]\n"
     ]
    }
   ],
   "source": [
    "x = np.arange(21)\n",
    "print(\"Original vector:\")\n",
    "print(x)\n",
    "print(\"After changing the sign of the numbers in the range from 9 to 15:\")\n",
    "x[(x >= 9) & (x <= 15)] *= -1\n",
    "print(x)"
   ]
  },
  {
   "cell_type": "markdown",
   "metadata": {},
   "source": [
    "Write a NumPy program to create a vector of length 5 filled with arbitrary integers from 0 to 10"
   ]
  },
  {
   "cell_type": "code",
   "execution_count": 61,
   "metadata": {},
   "outputs": [
    {
     "name": "stdout",
     "output_type": "stream",
     "text": [
      "Vector of length 5 filled with arbitrary integers from 0 to 10:\n",
      "[5 2 8 1 7]\n"
     ]
    }
   ],
   "source": [
    "x = np.random.randint(0, 11, 5)\n",
    "print(\"Vector of length 5 filled with arbitrary integers from 0 to 10:\")\n",
    "print(x)\n"
   ]
  },
  {
   "cell_type": "markdown",
   "metadata": {},
   "source": [
    "Write a NumPy program to multiply the values of two given vectors."
   ]
  },
  {
   "cell_type": "code",
   "execution_count": 62,
   "metadata": {},
   "outputs": [
    {
     "name": "stdout",
     "output_type": "stream",
     "text": [
      "Vector-1\n",
      "[1 8 3 5]\n",
      "Vector-2\n",
      "[1 4 7 6]\n",
      "Multiply the values of two said vectors:\n",
      "[ 1 32 21 30]\n"
     ]
    }
   ],
   "source": [
    "x = np.array([1, 8, 3, 5])\n",
    "print(\"Vector-1\")\n",
    "print(x)\n",
    "y = np.random.randint(0, 11, 4)\n",
    "print(\"Vector-2\")\n",
    "print(y)\n",
    "result = x * y\n",
    "print(\"Multiply the values of two said vectors:\")\n",
    "print(result)\n"
   ]
  },
  {
   "cell_type": "markdown",
   "metadata": {},
   "source": [
    "Write a NumPy program to create a 3x4 matrix filled with values from 10 to 21."
   ]
  },
  {
   "cell_type": "code",
   "execution_count": 63,
   "metadata": {},
   "outputs": [
    {
     "name": "stdout",
     "output_type": "stream",
     "text": [
      "[[10 11 12 13]\n",
      " [14 15 16 17]\n",
      " [18 19 20 21]]\n"
     ]
    }
   ],
   "source": [
    "m = np.arange(10, 22).reshape((3, 4))\n",
    "print(m)\n"
   ]
  },
  {
   "cell_type": "markdown",
   "metadata": {},
   "source": [
    "Write a NumPy program to find the number of rows and columns of a given matrix."
   ]
  },
  {
   "cell_type": "code",
   "execution_count": 64,
   "metadata": {},
   "outputs": [
    {
     "name": "stdout",
     "output_type": "stream",
     "text": [
      "Original matrix:\n",
      "[[10 11 12 13]\n",
      " [14 15 16 17]\n",
      " [18 19 20 21]]\n",
      "Number of rows and columns of the said matrix:\n",
      "(3, 4)\n"
     ]
    }
   ],
   "source": [
    "m = np.arange(10, 22).reshape((3, 4))\n",
    "print(\"Original matrix:\")\n",
    "print(m)\n",
    "print(\"Number of rows and columns of the said matrix:\")\n",
    "print(m.shape)\n"
   ]
  },
  {
   "cell_type": "markdown",
   "metadata": {},
   "source": [
    "Write a NumPy program to create a 3x3 identity matrix, i.e. diagonal elements are 1, the rest are 0."
   ]
  },
  {
   "cell_type": "code",
   "execution_count": 65,
   "metadata": {},
   "outputs": [
    {
     "name": "stdout",
     "output_type": "stream",
     "text": [
      "[[1. 0. 0.]\n",
      " [0. 1. 0.]\n",
      " [0. 0. 1.]]\n"
     ]
    }
   ],
   "source": [
    "x = np.eye(3)\n",
    "print(x)"
   ]
  },
  {
   "cell_type": "markdown",
   "metadata": {},
   "source": [
    "Write a NumPy program to create a 10x10 matrix, in which the elements on the borders will be equal to 1, and inside 0."
   ]
  },
  {
   "cell_type": "code",
   "execution_count": 68,
   "metadata": {},
   "outputs": [
    {
     "name": "stdout",
     "output_type": "stream",
     "text": [
      "[[1. 1. 1. 1. 1. 1. 1. 1. 1. 1.]\n",
      " [1. 0. 0. 0. 0. 0. 0. 0. 0. 1.]\n",
      " [1. 0. 0. 0. 0. 0. 0. 0. 0. 1.]\n",
      " [1. 0. 0. 0. 0. 0. 0. 0. 0. 1.]\n",
      " [1. 0. 0. 0. 0. 0. 0. 0. 0. 1.]\n",
      " [1. 0. 0. 0. 0. 0. 0. 0. 0. 1.]\n",
      " [1. 0. 0. 0. 0. 0. 0. 0. 0. 1.]\n",
      " [1. 0. 0. 0. 0. 0. 0. 0. 0. 1.]\n",
      " [1. 0. 0. 0. 0. 0. 0. 0. 0. 1.]\n",
      " [1. 1. 1. 1. 1. 1. 1. 1. 1. 1.]]\n"
     ]
    }
   ],
   "source": [
    "x = np.ones((10, 10))\n",
    "x[1:-1, 1:-1] = 0\n",
    "print(x)\n"
   ]
  },
  {
   "cell_type": "markdown",
   "metadata": {},
   "source": [
    "Write a NumPy program to create a 5x5 zero matrix with elements on the main diagonal equal to 1, 2, 3, 4, 5."
   ]
  },
  {
   "cell_type": "code",
   "execution_count": 69,
   "metadata": {},
   "outputs": [
    {
     "name": "stdout",
     "output_type": "stream",
     "text": [
      "[[1 0 0 0 0]\n",
      " [0 2 0 0 0]\n",
      " [0 0 3 0 0]\n",
      " [0 0 0 4 0]\n",
      " [0 0 0 0 5]]\n"
     ]
    }
   ],
   "source": [
    "x = np.diag([1, 2, 3, 4, 5])\n",
    "print(x)\n"
   ]
  },
  {
   "cell_type": "markdown",
   "metadata": {},
   "source": [
    "Write a NumPy program to create a 4x4 matrix in which 0 and 1 are staggered, with zeros on the main diagonal."
   ]
  },
  {
   "cell_type": "code",
   "execution_count": 72,
   "metadata": {},
   "outputs": [
    {
     "name": "stdout",
     "output_type": "stream",
     "text": [
      "[[0. 0. 0. 0.]\n",
      " [0. 0. 0. 0.]\n",
      " [0. 0. 0. 0.]\n",
      " [0. 0. 0. 0.]]\n",
      "[[0. 1. 0. 1.]\n",
      " [1. 0. 1. 0.]\n",
      " [0. 1. 0. 1.]\n",
      " [1. 0. 1. 0.]]\n"
     ]
    }
   ],
   "source": [
    "x = np.zeros((4, 4))\n",
    "print(x)\n",
    "x[::2, 1::2] = 1\n",
    "x[1::2, ::2] = 1\n",
    "print(x)\n"
   ]
  },
  {
   "cell_type": "markdown",
   "metadata": {},
   "source": [
    "Write a NumPy program to create a 3x3x3 array filled with arbitrary values."
   ]
  },
  {
   "cell_type": "code",
   "execution_count": 73,
   "metadata": {},
   "outputs": [
    {
     "name": "stdout",
     "output_type": "stream",
     "text": [
      "[[[0.71743963 0.41017008 0.56065457]\n",
      "  [0.25187813 0.88175737 0.22690688]\n",
      "  [0.35815759 0.85057995 0.0113102 ]]\n",
      "\n",
      " [[0.16824026 0.10734067 0.69501115]\n",
      "  [0.04406321 0.61925911 0.25712463]\n",
      "  [0.23652831 0.18416951 0.6655523 ]]\n",
      "\n",
      " [[0.09537045 0.86443015 0.9906574 ]\n",
      "  [0.98487127 0.1101806  0.88402019]\n",
      "  [0.46611055 0.70605466 0.65219156]]]\n"
     ]
    }
   ],
   "source": [
    "x = np.random.random((3, 3, 3))\n",
    "print(x)"
   ]
  },
  {
   "cell_type": "markdown",
   "metadata": {},
   "source": [
    "Write a NumPy program to compute sum of all elements, sum of each column and sum of each row of a given array."
   ]
  },
  {
   "cell_type": "code",
   "execution_count": 76,
   "metadata": {},
   "outputs": [
    {
     "name": "stdout",
     "output_type": "stream",
     "text": [
      "Original array:\n",
      "[[0 1]\n",
      " [2 3]]\n",
      "Sum of all elements:\n",
      "6\n",
      "Sum of each column:\n",
      "[2 4]\n",
      "Sum of each row:\n",
      "[1 5]\n"
     ]
    }
   ],
   "source": [
    "x = np.array([[0, 1], [2, 3]])\n",
    "print(\"Original array:\")\n",
    "print(x)\n",
    "print(\"Sum of all elements:\")\n",
    "print(np.sum(x))\n",
    "print(\"Sum of each column:\")\n",
    "print(np.sum(x, axis=0))\n",
    "print(\"Sum of each row:\")\n",
    "print(np.sum(x, axis=1))\n"
   ]
  },
  {
   "cell_type": "markdown",
   "metadata": {},
   "source": [
    "Write a NumPy program to compute the inner product of two given vectors."
   ]
  },
  {
   "cell_type": "code",
   "execution_count": 77,
   "metadata": {},
   "outputs": [
    {
     "name": "stdout",
     "output_type": "stream",
     "text": [
      "Original vectors:\n",
      "[4 5]\n",
      "[ 7 10]\n",
      "Inner product of said vectors:\n",
      "78\n"
     ]
    }
   ],
   "source": [
    "x = np.array([4, 5])\n",
    "y = np.array([7, 10])\n",
    "print(\"Original vectors:\")\n",
    "print(x)\n",
    "print(y)\n",
    "print(\"Inner product of said vectors:\")\n",
    "print(np.dot(x, y))"
   ]
  },
  {
   "cell_type": "markdown",
   "metadata": {},
   "source": [
    "Write a NumPy program to add a vector to each row of a given matrix."
   ]
  },
  {
   "cell_type": "code",
   "execution_count": 79,
   "metadata": {},
   "outputs": [
    {
     "name": "stdout",
     "output_type": "stream",
     "text": [
      "Original vector:\n",
      "[1 1 0]\n",
      "Original matrix:\n",
      "[[ 1  2  3]\n",
      " [ 4  5  6]\n",
      " [ 7  8  9]\n",
      " [10 11 12]]\n",
      "[[ 1  2  3]\n",
      " [ 4  5  6]\n",
      " [ 7  8  9]\n",
      " [10 11 12]]\n",
      "\n",
      "After adding the vector v to each row of the matrix m:\n",
      "[[ 2  3  3]\n",
      " [ 5  6  6]\n",
      " [ 8  9  9]\n",
      " [11 12 12]]\n"
     ]
    }
   ],
   "source": [
    "m = np.array([[1, 2, 3], [4, 5, 6], [7, 8, 9], [10, 11, 12]])\n",
    "v = np.array([1, 1, 0])\n",
    "print(\"Original vector:\")\n",
    "print(v)\n",
    "print(\"Original matrix:\")\n",
    "print(m)\n",
    "result = np.empty_like(m)\n",
    "print(result)\n",
    "for i in range(4):\n",
    "  result[i, :] = m[i, :] + v\n",
    "print(\"\\nAfter adding the vector v to each row of the matrix m:\")\n",
    "print(result)\n"
   ]
  },
  {
   "cell_type": "markdown",
   "metadata": {},
   "source": [
    "Write a NumPy program to save a given array to a binary file ."
   ]
  },
  {
   "cell_type": "code",
   "execution_count": 80,
   "metadata": {},
   "outputs": [
    {
     "name": "stdout",
     "output_type": "stream",
     "text": [
      "Check if 'temp_arra.npy' exists or not?\n",
      "True\n"
     ]
    }
   ],
   "source": [
    "import os\n",
    "a = np.arange(20)\n",
    "np.save('temp_arra.npy', a)\n",
    "print(\"Check if 'temp_arra.npy' exists or not?\")\n",
    "if os.path.exists('temp_arra.npy'):\n",
    "    x2 = np.load('temp_arra.npy')\n",
    "    print(np.array_equal(a, x2))\n"
   ]
  },
  {
   "cell_type": "markdown",
   "metadata": {},
   "source": [
    "Write a NumPy program to save two given arrays into a single file in compressed format (.npz format) and load it."
   ]
  },
  {
   "cell_type": "code",
   "execution_count": 81,
   "metadata": {},
   "outputs": [
    {
     "name": "stdout",
     "output_type": "stream",
     "text": [
      "Original arrays:\n",
      "[0 1 2 3 4 5 6 7 8 9]\n",
      "[11 12 13 14 15 16 17 18 19]\n",
      "Load arrays from the 'temp_arra.npz' file:\n",
      "[0 1 2 3 4 5 6 7 8 9]\n",
      "[11 12 13 14 15 16 17 18 19]\n"
     ]
    }
   ],
   "source": [
    "x = np.arange(10)\n",
    "y = np.arange(11, 20)\n",
    "print(\"Original arrays:\")\n",
    "print(x)\n",
    "print(y)\n",
    "np.savez('temp_arra.npz', x=x, y=y)\n",
    "print(\"Load arrays from the 'temp_arra.npz' file:\")\n",
    "with np.load('temp_arra.npz') as data:\n",
    "    x2 = data['x']\n",
    "    y2 = data['y']\n",
    "    print(x2)\n",
    "    print(y2)\n"
   ]
  },
  {
   "cell_type": "markdown",
   "metadata": {},
   "source": [
    "Write a NumPy program to save a given array to a text file and load it."
   ]
  },
  {
   "cell_type": "code",
   "execution_count": 82,
   "metadata": {},
   "outputs": [
    {
     "name": "stdout",
     "output_type": "stream",
     "text": [
      "Original array:\n",
      "[[ 0  1  2]\n",
      " [ 3  4  5]\n",
      " [ 6  7  8]\n",
      " [ 9 10 11]]\n",
      "After loading, content of the text file:\n",
      "[[ 0.  1.  2.]\n",
      " [ 3.  4.  5.]\n",
      " [ 6.  7.  8.]\n",
      " [ 9. 10. 11.]]\n"
     ]
    }
   ],
   "source": [
    "x = np.arange(12).reshape(4, 3)\n",
    "print(\"Original array:\")\n",
    "print(x)\n",
    "header = 'col1 col2 col3'\n",
    "np.savetxt('temp.txt', x, fmt=\"%d\", header=header)\n",
    "print(\"After loading, content of the text file:\")\n",
    "result = np.loadtxt('temp.txt')\n",
    "print(result)\n"
   ]
  },
  {
   "cell_type": "markdown",
   "metadata": {},
   "source": [
    "Write a NumPy program to convert a given array into bytes, and load it as array."
   ]
  },
  {
   "cell_type": "code",
   "execution_count": 83,
   "metadata": {},
   "outputs": [
    {
     "name": "stdout",
     "output_type": "stream",
     "text": [
      "Original array:\n",
      "[1 2 3 4 5 6]\n",
      "After loading, content of the text file:\n",
      "[1 2 3 4 5 6]\n",
      "True\n"
     ]
    }
   ],
   "source": [
    "a = np.array([1, 2, 3, 4, 5, 6])\n",
    "print(\"Original array:\")\n",
    "print(a)\n",
    "a_bytes = a.tobytes()\n",
    "a2 = np.frombuffer(a_bytes, dtype=a.dtype)\n",
    "print(\"After loading, content of the text file:\")\n",
    "print(a2)\n",
    "print(np.array_equal(a, a2))\n"
   ]
  },
  {
   "cell_type": "markdown",
   "metadata": {},
   "source": [
    "Write a NumPy program to convert a given list into an array, then again convert it into a list. Check initial list and final list are equal or not."
   ]
  },
  {
   "cell_type": "code",
   "execution_count": 84,
   "metadata": {},
   "outputs": [
    {
     "name": "stdout",
     "output_type": "stream",
     "text": [
      "True\n"
     ]
    }
   ],
   "source": [
    "a = [[1, 2], [3, 4]]\n",
    "x = np.array(a)\n",
    "a2 = x.tolist()\n",
    "print(a == a2)\n"
   ]
  },
  {
   "cell_type": "markdown",
   "metadata": {},
   "source": [
    "Write a NumPy program to convert numpy dtypes to native python types."
   ]
  },
  {
   "cell_type": "code",
   "execution_count": 85,
   "metadata": {},
   "outputs": [
    {
     "name": "stdout",
     "output_type": "stream",
     "text": [
      "numpy.float32 to python float\n",
      "<class 'numpy.float32'>\n",
      "<class 'float'>\n"
     ]
    }
   ],
   "source": [
    "print(\"numpy.float32 to python float\")\n",
    "x = np.float32(0)\n",
    "print(type(x))\n",
    "pyval = x.item()\n",
    "print(type(pyval))\n"
   ]
  },
  {
   "cell_type": "markdown",
   "metadata": {},
   "source": [
    "Write a NumPy program to add elements in a matrix. If an element in the matrix is 0, we will not add the element below this element"
   ]
  },
  {
   "cell_type": "code",
   "execution_count": 86,
   "metadata": {},
   "outputs": [
    {
     "name": "stdout",
     "output_type": "stream",
     "text": [
      "Original matrix:\n",
      "[[1, 1, 0, 2], [0, 3, 0, 3], [1, 0, 4, 4]]\n",
      "Sum:\n",
      "14\n"
     ]
    }
   ],
   "source": [
    "def sum_matrix_Elements(m):\n",
    "    arra = np.array(m)\n",
    "    element_sum = 0\n",
    "    for p in range(len(arra)):\n",
    "        for q in range(len(arra[p])):\n",
    "            if arra[p][q] == 0 and p < len(arra)-1:\n",
    "                arra[p+1][q] = 0\n",
    "            element_sum += arra[p][q]\n",
    "    return element_sum\n",
    "\n",
    "\n",
    "m = [[1, 1, 0, 2],\n",
    "     [0, 3, 0, 3],\n",
    "     [1, 0, 4, 4]]\n",
    "print(\"Original matrix:\")\n",
    "print(m)\n",
    "print(\"Sum:\")\n",
    "print(sum_matrix_Elements(m))\n"
   ]
  },
  {
   "cell_type": "markdown",
   "metadata": {},
   "source": [
    "Write a NumPy program to find the missing data in a given array."
   ]
  },
  {
   "cell_type": "code",
   "execution_count": 87,
   "metadata": {},
   "outputs": [
    {
     "name": "stdout",
     "output_type": "stream",
     "text": [
      "Original array:\n",
      "[[ 3.  2. nan  1.]\n",
      " [10. 12. 10.  9.]\n",
      " [ 5. nan  1. nan]]\n",
      "\n",
      "Find the missing data of the said array:\n",
      "[[False False  True False]\n",
      " [False False False False]\n",
      " [False  True False  True]]\n"
     ]
    }
   ],
   "source": [
    "nums = np.array([[3, 2, np.nan, 1],\n",
    "                 [10, 12, 10, 9],\n",
    "                 [5, np.nan, 1, np.nan]])\n",
    "\n",
    "print(\"Original array:\")\n",
    "print(nums)\n",
    "print(\"\\nFind the missing data of the said array:\")\n",
    "print(np.isnan(nums))\n"
   ]
  },
  {
   "cell_type": "markdown",
   "metadata": {},
   "source": [
    "Write a NumPy program to check whether two arrays are equal (element wise) or not."
   ]
  },
  {
   "cell_type": "code",
   "execution_count": 89,
   "metadata": {},
   "outputs": [
    {
     "name": "stdout",
     "output_type": "stream",
     "text": [
      "Original arrays:\n",
      "[0.5 1.5 0.2]\n",
      "[0.4999999999 1.5          0.2         ]\n",
      "\n",
      "Test said two arrays are equal (element wise) or not:?\n",
      "[False  True  True]\n",
      "\n",
      "Original arrays:\n",
      "[0.5  1.5  0.23]\n",
      "[0.4999999999 1.5000000001 0.23        ]\n",
      "\n",
      "Test said two arrays are equal (element wise) or not:?\n",
      "[False False  True]\n"
     ]
    }
   ],
   "source": [
    "nums1 = np.array([0.5, 1.5, 0.2])\n",
    "nums2 = np.array([0.4999999999, 1.500000000, 0.2])\n",
    "np.set_printoptions(precision=15)\n",
    "print(\"Original arrays:\")\n",
    "print(nums1)\n",
    "print(nums2)\n",
    "print(\"\\nTest said two arrays are equal (element wise) or not:?\")\n",
    "print(nums1 == nums2)\n",
    "nums1 = np.array([0.5, 1.5, 0.23])\n",
    "nums2 = np.array([0.4999999999, 1.5000000001, 0.23])\n",
    "print(\"\\nOriginal arrays:\")\n",
    "np.set_printoptions(precision=15)\n",
    "print(nums1)\n",
    "print(nums2)\n",
    "print(\"\\nTest said two arrays are equal (element wise) or not:?\")\n",
    "print(np.equal(nums1, nums2))\n"
   ]
  },
  {
   "cell_type": "markdown",
   "metadata": {},
   "source": [
    "Write a NumPy program to create one-dimensional array of single, two and three digit numbers"
   ]
  },
  {
   "cell_type": "code",
   "execution_count": 90,
   "metadata": {},
   "outputs": [
    {
     "name": "stdout",
     "output_type": "stream",
     "text": [
      "One-dimensional array of single digit numbers:\n",
      "[ 1  2  3  4  5  6  7  8  9 10 11 12 13 14 15 16 17 18 19 20]\n",
      "\n",
      "One-dimensional array of two digit numbers:\n",
      "[10 11 12 13 14 15 16 17 18 19 20]\n",
      "\n",
      "One-dimensional array of three digit numbers:\n",
      "[100 101 102 103 104 105 106 107 108 109 110 111 112 113 114 115 116 117\n",
      " 118 119 120 121 122 123 124 125 126 127 128 129 130 131 132 133 134 135\n",
      " 136 137 138 139 140 141 142 143 144 145 146 147 148 149 150 151 152 153\n",
      " 154 155 156 157 158 159 160 161 162 163 164 165 166 167 168 169 170 171\n",
      " 172 173 174 175 176 177 178 179 180 181 182 183 184 185 186 187 188 189\n",
      " 190 191 192 193 194 195 196 197 198 199 200]\n"
     ]
    }
   ],
   "source": [
    "nums = np.arange(1, 21)\n",
    "print(\"One-dimensional array of single digit numbers:\")\n",
    "print(nums)\n",
    "nums = np.arange(10, 21)\n",
    "print(\"\\nOne-dimensional array of two digit numbers:\")\n",
    "print(nums)\n",
    "nums = np.arange(100, 201)\n",
    "print(\"\\nOne-dimensional array of three digit numbers:\")\n",
    "print(nums)\n"
   ]
  },
  {
   "cell_type": "markdown",
   "metadata": {},
   "source": [
    "Write a NumPy program to create a two-dimensional array of specified format."
   ]
  },
  {
   "cell_type": "code",
   "execution_count": 91,
   "metadata": {},
   "outputs": [
    {
     "name": "stdout",
     "output_type": "stream",
     "text": [
      "Create an array of shape (15,10):\n",
      "Command-1\n",
      "[[  1   2   3   4   5   6   7   8   9  10]\n",
      " [ 11  12  13  14  15  16  17  18  19  20]\n",
      " [ 21  22  23  24  25  26  27  28  29  30]\n",
      " [ 31  32  33  34  35  36  37  38  39  40]\n",
      " [ 41  42  43  44  45  46  47  48  49  50]\n",
      " [ 51  52  53  54  55  56  57  58  59  60]\n",
      " [ 61  62  63  64  65  66  67  68  69  70]\n",
      " [ 71  72  73  74  75  76  77  78  79  80]\n",
      " [ 81  82  83  84  85  86  87  88  89  90]\n",
      " [ 91  92  93  94  95  96  97  98  99 100]\n",
      " [101 102 103 104 105 106 107 108 109 110]\n",
      " [111 112 113 114 115 116 117 118 119 120]\n",
      " [121 122 123 124 125 126 127 128 129 130]\n",
      " [131 132 133 134 135 136 137 138 139 140]\n",
      " [141 142 143 144 145 146 147 148 149 150]]\n",
      "\n",
      "Command-2\n",
      "[[  1   2   3   4   5   6   7   8   9  10]\n",
      " [ 11  12  13  14  15  16  17  18  19  20]\n",
      " [ 21  22  23  24  25  26  27  28  29  30]\n",
      " [ 31  32  33  34  35  36  37  38  39  40]\n",
      " [ 41  42  43  44  45  46  47  48  49  50]\n",
      " [ 51  52  53  54  55  56  57  58  59  60]\n",
      " [ 61  62  63  64  65  66  67  68  69  70]\n",
      " [ 71  72  73  74  75  76  77  78  79  80]\n",
      " [ 81  82  83  84  85  86  87  88  89  90]\n",
      " [ 91  92  93  94  95  96  97  98  99 100]\n",
      " [101 102 103 104 105 106 107 108 109 110]\n",
      " [111 112 113 114 115 116 117 118 119 120]\n",
      " [121 122 123 124 125 126 127 128 129 130]\n",
      " [131 132 133 134 135 136 137 138 139 140]\n",
      " [141 142 143 144 145 146 147 148 149 150]]\n",
      "\n",
      "Command-3\n",
      "[[  1   2   3   4   5   6   7   8   9  10]\n",
      " [ 11  12  13  14  15  16  17  18  19  20]\n",
      " [ 21  22  23  24  25  26  27  28  29  30]\n",
      " [ 31  32  33  34  35  36  37  38  39  40]\n",
      " [ 41  42  43  44  45  46  47  48  49  50]\n",
      " [ 51  52  53  54  55  56  57  58  59  60]\n",
      " [ 61  62  63  64  65  66  67  68  69  70]\n",
      " [ 71  72  73  74  75  76  77  78  79  80]\n",
      " [ 81  82  83  84  85  86  87  88  89  90]\n",
      " [ 91  92  93  94  95  96  97  98  99 100]\n",
      " [101 102 103 104 105 106 107 108 109 110]\n",
      " [111 112 113 114 115 116 117 118 119 120]\n",
      " [121 122 123 124 125 126 127 128 129 130]\n",
      " [131 132 133 134 135 136 137 138 139 140]\n",
      " [141 142 143 144 145 146 147 148 149 150]]\n"
     ]
    }
   ],
   "source": [
    "print(\"Create an array of shape (15,10):\")\n",
    "print(\"Command-1\")\n",
    "print(np.arange(1, 151).reshape(15, 10))\n",
    "print(\"\\nCommand-2\")\n",
    "print(np.arange(1, 151).reshape(-1, 10))\n",
    "print(\"\\nCommand-3\")\n",
    "print(np.arange(1, 151).reshape(15, -1))\n"
   ]
  },
  {
   "cell_type": "markdown",
   "metadata": {},
   "source": [
    "Write a NumPy program to create a one dimensional array of forty pseudo-randomly generated values. Select random numbers from a uniform distribution between 0 and 1."
   ]
  },
  {
   "cell_type": "code",
   "execution_count": 92,
   "metadata": {},
   "outputs": [
    {
     "name": "stdout",
     "output_type": "stream",
     "text": [
      "[0.771320643266746 0.020751949359402 0.633648234926275 0.748803882538612\n",
      " 0.49850701230259  0.224796645530848 0.198062864759624 0.760530712198959\n",
      " 0.169110836562535 0.08833981417401  0.685359818367797 0.953393346194937\n",
      " 0.003948266327914 0.512192263385777 0.812620961652114 0.612526066829388\n",
      " 0.7217553174318   0.291876068170633 0.917774122512943 0.714575783397691\n",
      " 0.542544368011261 0.142170047601527 0.373340760051469 0.674133615066345\n",
      " 0.441833174422996 0.434013993333294 0.617766978469317 0.513138242554391\n",
      " 0.650397181931467 0.601038953404544 0.805223196832746 0.521647152393634\n",
      " 0.908648880808668 0.319236088988545 0.090459349270907 0.300700056636203\n",
      " 0.11398436186355  0.828681326307677 0.04689631938925  0.626287148311393]\n"
     ]
    }
   ],
   "source": [
    "np.random.seed(10)\n",
    "print(np.random.rand(40))\n"
   ]
  },
  {
   "cell_type": "markdown",
   "metadata": {},
   "source": [
    "Write a NumPy program to create a two-dimensional array with shape (8,5) of random numbers. Select random numbers from a normal distribution (200,7)."
   ]
  },
  {
   "cell_type": "code",
   "execution_count": 93,
   "metadata": {},
   "outputs": [
    {
     "name": "stdout",
     "output_type": "stream",
     "text": [
      "[[201.69082669736346 200.3746763082702  200.68394275021677\n",
      "  195.51750123129818]\n",
      " [197.92478991563303 201.07066048488275 201.79714021459858\n",
      "  198.12823310277952]\n",
      " [200.96238963339914 200.77744291067876 200.61875865227867\n",
      "  199.05613893807728]\n",
      " [198.48492638364303 198.38860811141893 197.55239946005003\n",
      "  200.47003620983824]\n",
      " [199.9154583876559  202.99877319355295 202.01069856971475\n",
      "  200.77735483308504]\n",
      " [199.67739161408255 193.89831807071494 202.14273592752286\n",
      "  202.54951299405823]\n",
      " [199.53450968631876 199.75126019761723 199.791457270905\n",
      "  202.97687756587686]\n",
      " [200.24634412660365 196.0460693352411  198.3061125324022\n",
      "  197.88701546225133]\n",
      " [201.7845091237894  203.94032834458278 198.21152802602944\n",
      "  196.91446071431977]\n",
      " [201.0082480992413  197.03285103581035 200.6305276348363\n",
      "  197.82590294139914]]\n"
     ]
    }
   ],
   "source": [
    "np.random.seed(20)\n",
    "cbrt = np.cbrt(7)\n",
    "nd1 = 200\n",
    "print(cbrt * np.random.randn(10, 4) + nd1)\n"
   ]
  },
  {
   "cell_type": "markdown",
   "metadata": {},
   "source": [
    "Write a NumPy program to generate a uniform, non-uniform random sample from a given 1-D array with and without replacement."
   ]
  },
  {
   "cell_type": "code",
   "execution_count": 94,
   "metadata": {},
   "outputs": [
    {
     "name": "stdout",
     "output_type": "stream",
     "text": [
      "Generate a uniform random sample with replacement:\n",
      "[2 2 1 5 2]\n",
      "\n",
      "Generate a uniform random sample without replacement:\n",
      "[6 3 5 4 2]\n",
      "\n",
      "Generate a non-uniform random sample with replacement:\n",
      "[6 1 6 0 1]\n",
      "\n",
      "Generate a uniform random sample without replacement:\n",
      "[1 6 4 3 0]\n"
     ]
    }
   ],
   "source": [
    "print(\"Generate a uniform random sample with replacement:\")\n",
    "print(np.random.choice(7, 5))\n",
    "print(\"\\nGenerate a uniform random sample without replacement:\")\n",
    "print(np.random.choice(7, 5, replace=False))\n",
    "print(\"\\nGenerate a non-uniform random sample with replacement:\")\n",
    "print(np.random.choice(7, 5, p=[0.1, 0.2, 0, 0.2, 0.4, 0, 0.1]))\n",
    "print(\"\\nGenerate a uniform random sample without replacement:\")\n",
    "print(np.random.choice(7, 5, replace=False, p=[0.1, 0.2, 0, 0.2, 0.4, 0, 0.1]))\n"
   ]
  },
  {
   "cell_type": "markdown",
   "metadata": {},
   "source": [
    "Write a NumPy program to create a 4x4 array with random values, now create a new array from the said array swapping first and last rows."
   ]
  },
  {
   "cell_type": "code",
   "execution_count": 95,
   "metadata": {},
   "outputs": [
    {
     "name": "stdout",
     "output_type": "stream",
     "text": [
      "Original array:\n",
      "[[ 0  1  2  3]\n",
      " [ 4  5  6  7]\n",
      " [ 8  9 10 11]\n",
      " [12 13 14 15]]\n",
      "\n",
      "New array after swapping first and last rows of the said array:\n",
      "[[12 13 14 15]\n",
      " [ 4  5  6  7]\n",
      " [ 8  9 10 11]\n",
      " [ 0  1  2  3]]\n"
     ]
    }
   ],
   "source": [
    "nums = np.arange(16, dtype='int').reshape(-1, 4)\n",
    "print(\"Original array:\")\n",
    "print(nums)\n",
    "print(\"\\nNew array after swapping first and last rows of the said array:\")\n",
    "nums[[0, -1], :] = nums[[-1, 0], :]\n",
    "print(nums)\n"
   ]
  },
  {
   "cell_type": "markdown",
   "metadata": {},
   "source": [
    "Write a NumPy program to create a new array of given shape (5,6) and type, filled with zeros."
   ]
  },
  {
   "cell_type": "code",
   "execution_count": 96,
   "metadata": {},
   "outputs": [
    {
     "name": "stdout",
     "output_type": "stream",
     "text": [
      "Original array:\n",
      "[[0 0 0 0 0 0]\n",
      " [0 0 0 0 0 0]\n",
      " [0 0 0 0 0 0]\n",
      " [0 0 0 0 0 0]\n",
      " [0 0 0 0 0 0]]\n",
      "\n",
      "New array:\n",
      "[[3 0 3 0 3 0]\n",
      " [7 0 7 0 7 0]\n",
      " [3 0 3 0 3 0]\n",
      " [7 0 7 0 7 0]\n",
      " [3 0 3 0 3 0]]\n"
     ]
    }
   ],
   "source": [
    "nums = np.zeros(shape=(5, 6), dtype='int')\n",
    "print(\"Original array:\")\n",
    "print(nums)\n",
    "nums[::2, ::2] = 3\n",
    "nums[1::2, ::2] = 7\n",
    "print(\"\\nNew array:\")\n",
    "print(nums)\n"
   ]
  },
  {
   "cell_type": "markdown",
   "metadata": {},
   "source": [
    "Write a NumPy program to sort a given array by row and column in ascending order."
   ]
  },
  {
   "cell_type": "code",
   "execution_count": 97,
   "metadata": {},
   "outputs": [
    {
     "name": "stdout",
     "output_type": "stream",
     "text": [
      "Original array:\n",
      "[[5.54 3.38 7.99]\n",
      " [3.54 4.38 6.99]\n",
      " [1.54 2.39 9.29]]\n",
      "\n",
      "Sort the said array by row in ascending order:\n",
      "[[3.38 5.54 7.99]\n",
      " [3.54 4.38 6.99]\n",
      " [1.54 2.39 9.29]]\n",
      "\n",
      "Sort the said array by column in ascending order:\n",
      "[[1.54 2.39 6.99]\n",
      " [3.54 3.38 7.99]\n",
      " [5.54 4.38 9.29]]\n"
     ]
    }
   ],
   "source": [
    "nums = np.array([[5.54, 3.38, 7.99],\n",
    "                 [3.54, 4.38, 6.99],\n",
    "                 [1.54, 2.39, 9.29]])\n",
    "print(\"Original array:\")\n",
    "print(nums)\n",
    "print(\"\\nSort the said array by row in ascending order:\")\n",
    "print(np.sort(nums))\n",
    "print(\"\\nSort the said array by column in ascending order:\")\n",
    "print(np.sort(nums, axis=0))\n"
   ]
  },
  {
   "cell_type": "markdown",
   "metadata": {},
   "source": [
    "Write a NumPy program to extract all numbers from a given array which are less and greater than a specified number."
   ]
  },
  {
   "cell_type": "code",
   "execution_count": 98,
   "metadata": {},
   "outputs": [
    {
     "name": "stdout",
     "output_type": "stream",
     "text": [
      "Original array:\n",
      "[[5.54 3.38 7.99]\n",
      " [3.54 4.38 6.99]\n",
      " [1.54 2.39 9.29]]\n",
      "\n",
      "Elements of the said array greater than 5\n",
      "[5.54 7.99 6.99 9.29]\n",
      "\n",
      "Elements of the said array less than 6\n",
      "[5.54 3.38 3.54 4.38 1.54 2.39]\n"
     ]
    }
   ],
   "source": [
    "nums = np.array([[5.54, 3.38, 7.99],\n",
    "                 [3.54, 4.38, 6.99],\n",
    "                 [1.54, 2.39, 9.29]])\n",
    "print(\"Original array:\")\n",
    "print(nums)\n",
    "n = 5\n",
    "print(\"\\nElements of the said array greater than\", n)\n",
    "print(nums[nums > n])\n",
    "n = 6\n",
    "print(\"\\nElements of the said array less than\", n)\n",
    "print(nums[nums < n])\n"
   ]
  },
  {
   "cell_type": "markdown",
   "metadata": {},
   "source": [
    "Write a NumPy program to replace all numbers in a given array which is equal, less and greater to a given number"
   ]
  },
  {
   "cell_type": "code",
   "execution_count": 99,
   "metadata": {},
   "outputs": [
    {
     "name": "stdout",
     "output_type": "stream",
     "text": [
      "Original array:\n",
      "[[5.54 3.38 7.99]\n",
      " [3.54 8.32 6.99]\n",
      " [1.54 2.39 9.29]]\n",
      "\n",
      "Replace elements of the said array which are equal to  8.32 with 18.32\n",
      "[[ 5.54  3.38  7.99]\n",
      " [ 3.54 18.32  6.99]\n",
      " [ 1.54  2.39  9.29]]\n",
      "\n",
      "Replace elements with of the said array which are less than 8.32 with 18.32\n",
      "[[18.32 18.32 18.32]\n",
      " [18.32  8.32 18.32]\n",
      " [18.32 18.32  9.29]]\n",
      "\n",
      "Replace elements with of the said array which are greater than 8.32 with 18.32\n",
      "[[ 5.54  3.38  7.99]\n",
      " [ 3.54  8.32  6.99]\n",
      " [ 1.54  2.39 18.32]]\n"
     ]
    }
   ],
   "source": [
    "nums = np.array([[5.54, 3.38, 7.99],\n",
    "                 [3.54, 8.32, 6.99],\n",
    "                 [1.54, 2.39, 9.29]])\n",
    "print(\"Original array:\")\n",
    "print(nums)\n",
    "n = 8.32\n",
    "r = 18.32\n",
    "print(\"\\nReplace elements of the said array which are equal to \", n, \"with\", r)\n",
    "print(np.where(nums == n, r, nums))\n",
    "print(\"\\nReplace elements with of the said array which are less than\", n, \"with\", r)\n",
    "print(np.where(nums < n, r, nums))\n",
    "print(\"\\nReplace elements with of the said array which are greater than\", n, \"with\", r)\n",
    "print(np.where(nums > n, r, nums))\n"
   ]
  },
  {
   "cell_type": "markdown",
   "metadata": {},
   "source": [
    "Write a NumPy program to create an array of equal shape and data type of a given array."
   ]
  },
  {
   "cell_type": "code",
   "execution_count": 100,
   "metadata": {},
   "outputs": [
    {
     "name": "stdout",
     "output_type": "stream",
     "text": [
      "Original array:\n",
      "[[5.54 3.38 7.99]\n",
      " [3.54 8.32 6.99]\n",
      " [1.54 2.39 9.29]]\n",
      "\n",
      "New array of equal shape and data type of the said array filled by 0:\n",
      "[[0. 0. 0.]\n",
      " [0. 0. 0.]\n",
      " [0. 0. 0.]]\n"
     ]
    }
   ],
   "source": [
    "nums = np.array([[5.54, 3.38, 7.99],\n",
    "                 [3.54, 8.32, 6.99],\n",
    "                 [1.54, 2.39, 9.29]])\n",
    "print(\"Original array:\")\n",
    "print(nums)\n",
    "print(\"\\nNew array of equal shape and data type of the said array filled by 0:\")\n",
    "print(np.zeros_like(nums))\n"
   ]
  },
  {
   "cell_type": "markdown",
   "metadata": {},
   "source": [
    "Write a NumPy program to create a three-dimension array with shape (3,5,4) and set to a variable"
   ]
  },
  {
   "cell_type": "code",
   "execution_count": 101,
   "metadata": {},
   "outputs": [
    {
     "name": "stdout",
     "output_type": "stream",
     "text": [
      "Array:\n",
      "[[[1 5 2 1]\n",
      "  [4 3 5 6]\n",
      "  [6 3 0 6]\n",
      "  [7 3 5 0]\n",
      "  [2 3 3 5]]\n",
      "\n",
      " [[2 2 3 1]\n",
      "  [4 0 0 5]\n",
      "  [6 3 2 1]\n",
      "  [5 1 0 0]\n",
      "  [0 1 9 1]]\n",
      "\n",
      " [[3 1 4 2]\n",
      "  [4 1 6 0]\n",
      "  [1 2 0 6]\n",
      "  [8 3 4 0]\n",
      "  [2 0 2 8]]]\n"
     ]
    }
   ],
   "source": [
    "nums = np.array([[[1, 5, 2, 1],\n",
    "                  [4, 3, 5, 6],\n",
    "                  [6, 3, 0, 6],\n",
    "                  [7, 3, 5, 0],\n",
    "                  [2, 3, 3, 5]],\n",
    "\n",
    "                 [[2, 2, 3, 1],\n",
    "                  [4, 0, 0, 5],\n",
    "                  [6, 3, 2, 1],\n",
    "                  [5, 1, 0, 0],\n",
    "                  [0, 1, 9, 1]],\n",
    "\n",
    "                 [[3, 1, 4, 2],\n",
    "                  [4, 1, 6, 0],\n",
    "                  [1, 2, 0, 6],\n",
    "                  [8, 3, 4, 0],\n",
    "                  [2, 0, 2, 8]]])\n",
    "print(\"Array:\")\n",
    "print(nums)\n"
   ]
  },
  {
   "cell_type": "markdown",
   "metadata": {},
   "source": [
    "Write a NumPy program to create a 4x4 array, now create a new array from the said array swapping first and last, second and third columns. "
   ]
  },
  {
   "cell_type": "code",
   "execution_count": 102,
   "metadata": {},
   "outputs": [
    {
     "name": "stdout",
     "output_type": "stream",
     "text": [
      "Original array:\n",
      "[[ 0  1  2  3]\n",
      " [ 4  5  6  7]\n",
      " [ 8  9 10 11]\n",
      " [12 13 14 15]]\n",
      "\n",
      "New array after swapping first and last columns of the said array:\n",
      "[[ 3  2  1  0]\n",
      " [ 7  6  5  4]\n",
      " [11 10  9  8]\n",
      " [15 14 13 12]]\n"
     ]
    }
   ],
   "source": [
    "nums = np.arange(16, dtype='int').reshape(-1, 4)\n",
    "print(\"Original array:\")\n",
    "print(nums)\n",
    "print(\"\\nNew array after swapping first and last columns of the said array:\")\n",
    "new_nums = nums[:, ::-1]\n",
    "print(new_nums)\n"
   ]
  },
  {
   "cell_type": "markdown",
   "metadata": {},
   "source": [
    " Write a NumPy program to swap rows and columns of a given array in reverse order. "
   ]
  },
  {
   "cell_type": "code",
   "execution_count": 103,
   "metadata": {},
   "outputs": [
    {
     "name": "stdout",
     "output_type": "stream",
     "text": [
      "Original array:\n",
      "[[[ 1  2  3  4]\n",
      "  [ 0  1  3  4]\n",
      "  [90 91 93 94]\n",
      "  [ 5  0  3  2]]]\n",
      "\n",
      "Swap rows and columns of the said array in reverse order:\n",
      "[[[ 5  0  3  2]\n",
      "  [90 91 93 94]\n",
      "  [ 0  1  3  4]\n",
      "  [ 1  2  3  4]]]\n",
      "None\n"
     ]
    }
   ],
   "source": [
    "nums = np.array([[[1, 2, 3, 4],\n",
    "                  [0, 1, 3, 4],\n",
    "                  [90, 91, 93, 94],\n",
    "                  [5, 0, 3, 2]]])\n",
    "print(\"Original array:\")\n",
    "print(nums)\n",
    "print(\"\\nSwap rows and columns of the said array in reverse order:\")\n",
    "new_nums = print(nums[::-1, ::-1])\n",
    "print(new_nums)\n"
   ]
  },
  {
   "cell_type": "markdown",
   "metadata": {},
   "source": [
    "Write a NumPy program to multiply two given arrays of same size element-by-element. "
   ]
  },
  {
   "cell_type": "code",
   "execution_count": 104,
   "metadata": {},
   "outputs": [
    {
     "name": "stdout",
     "output_type": "stream",
     "text": [
      "Array1:\n",
      "[[2 5 2]\n",
      " [1 5 5]]\n",
      "Array2:\n",
      "[[5 3 4]\n",
      " [3 2 5]]\n",
      "\n",
      "Multiply said arrays of same size element-by-element:\n",
      "[[10 15  8]\n",
      " [ 3 10 25]]\n"
     ]
    }
   ],
   "source": [
    "nums1 = np.array([[2, 5, 2],\n",
    "                  [1, 5, 5]])\n",
    "nums2 = np.array([[5, 3, 4],\n",
    "                  [3, 2, 5]])\n",
    "print(\"Array1:\")\n",
    "print(nums1)\n",
    "print(\"Array2:\")\n",
    "print(nums2)\n",
    "print(\"\\nMultiply said arrays of same size element-by-element:\")\n",
    "print(np.multiply(nums1, nums2))\n"
   ]
  },
  {
   "cell_type": "code",
   "execution_count": null,
   "metadata": {},
   "outputs": [],
   "source": []
  }
 ],
 "metadata": {
  "kernelspec": {
   "display_name": "Python 3.8.3 64-bit ('3.8.3')",
   "language": "python",
   "name": "python3"
  },
  "language_info": {
   "codemirror_mode": {
    "name": "ipython",
    "version": 3
   },
   "file_extension": ".py",
   "mimetype": "text/x-python",
   "name": "python",
   "nbconvert_exporter": "python",
   "pygments_lexer": "ipython3",
   "version": "3.8.3"
  },
  "orig_nbformat": 4,
  "vscode": {
   "interpreter": {
    "hash": "89cf5402e0c1aa13651504e44e670d9436e9562706e1f131e9f22cd80ff27135"
   }
  }
 },
 "nbformat": 4,
 "nbformat_minor": 2
}
